{
 "cells": [
  {
   "cell_type": "code",
   "execution_count": 10,
   "metadata": {
    "colab": {},
    "colab_type": "code",
    "executionInfo": {
     "elapsed": 816,
     "status": "ok",
     "timestamp": 1599666668077,
     "user": {
      "displayName": "Dd Bb",
      "photoUrl": "",
      "userId": "11138508673052207396"
     },
     "user_tz": -180
    },
    "id": "yNfvm2HKdV_-"
   },
   "outputs": [],
   "source": [
    "import random\n",
    "import matplotlib.pyplot as plt\n",
    "from math import factorial as f\n",
    "import math\n",
    "from scipy.stats import norm\n",
    "import numpy as np\n",
    "import scipy.stats\n",
    "from scipy import stats"
   ]
  },
  {
   "cell_type": "code",
   "execution_count": 11,
   "metadata": {
    "colab": {},
    "colab_type": "code",
    "executionInfo": {
     "elapsed": 1955,
     "status": "ok",
     "timestamp": 1599664931030,
     "user": {
      "displayName": "Dd Bb",
      "photoUrl": "",
      "userId": "11138508673052207396"
     },
     "user_tz": -180
    },
    "id": "s6URdcBYdWAC"
   },
   "outputs": [],
   "source": [
    "def my_mean(x):\n",
    "    return sum(x)/len(x)"
   ]
  },
  {
   "cell_type": "code",
   "execution_count": 12,
   "metadata": {
    "colab": {},
    "colab_type": "code",
    "executionInfo": {
     "elapsed": 2090,
     "status": "ok",
     "timestamp": 1599664947123,
     "user": {
      "displayName": "Dd Bb",
      "photoUrl": "",
      "userId": "11138508673052207396"
     },
     "user_tz": -180
    },
    "id": "caIJTtXsdWAE"
   },
   "outputs": [],
   "source": [
    "def my_variance(x):\n",
    "    return sum([(xi - my_mean(x))**2 for xi in x]) / (len(x) -1)"
   ]
  },
  {
   "cell_type": "code",
   "execution_count": 13,
   "metadata": {
    "colab": {},
    "colab_type": "code",
    "executionInfo": {
     "elapsed": 3243,
     "status": "ok",
     "timestamp": 1599664948767,
     "user": {
      "displayName": "Dd Bb",
      "photoUrl": "",
      "userId": "11138508673052207396"
     },
     "user_tz": -180
    },
    "id": "vcUp2g31dWAH"
   },
   "outputs": [],
   "source": [
    "my_arr = [random.normalvariate(0, 1) for i in range(1000000)]"
   ]
  },
  {
   "cell_type": "code",
   "execution_count": 14,
   "metadata": {
    "colab": {
     "base_uri": "https://localhost:8080/",
     "height": 51
    },
    "colab_type": "code",
    "executionInfo": {
     "elapsed": 4639,
     "status": "ok",
     "timestamp": 1599665815183,
     "user": {
      "displayName": "Dd Bb",
      "photoUrl": "",
      "userId": "11138508673052207396"
     },
     "user_tz": -180
    },
    "id": "ZDpsavyedWAJ",
    "outputId": "282e6212-cb72-4e9b-b37f-2fee15a8332c"
   },
   "outputs": [
    {
     "name": "stdout",
     "output_type": "stream",
     "text": [
      "0.00039200456057417063\n",
      "1.0007044060365828\n"
     ]
    }
   ],
   "source": [
    "print(my_mean(my_arr))\n",
    "print(np.var(my_arr))"
   ]
  },
  {
   "cell_type": "code",
   "execution_count": 9,
   "metadata": {
    "colab": {
     "base_uri": "https://localhost:8080/",
     "height": 265
    },
    "colab_type": "code",
    "executionInfo": {
     "elapsed": 4073,
     "status": "ok",
     "timestamp": 1599665826465,
     "user": {
      "displayName": "Dd Bb",
      "photoUrl": "",
      "userId": "11138508673052207396"
     },
     "user_tz": -180
    },
    "id": "IJ8_KEYFdWAM",
    "outputId": "5a4cd4b6-9a32-4c25-be7b-6c7f50572099"
   },
   "outputs": [
    {
     "data": {
      "image/png": "[encoded data removed]",
      "text/plain": [
       "<Figure size 432x288 with 1 Axes>"
      ]
     },
     "metadata": {
      "needs_background": "light",
      "tags": []
     },
     "output_type": "display_data"
    }
   ],
   "source": [
    "plt.hist(my_arr, bins=100)\n",
    "plt.show()"
   ]
  },
  {
   "cell_type": "code",
   "execution_count": 15,
   "metadata": {
    "colab": {},
    "colab_type": "code",
    "executionInfo": {
     "elapsed": 891,
     "status": "ok",
     "timestamp": 1599666026443,
     "user": {
      "displayName": "Dd Bb",
      "photoUrl": "",
      "userId": "11138508673052207396"
     },
     "user_tz": -180
    },
    "id": "dESQKzUfdWAO"
   },
   "outputs": [],
   "source": [
    "def norm_cdf(x, n):\n",
    "    return sum([1 for i in x if i<=n]) / len(x)"
   ]
  },
  {
   "cell_type": "code",
   "execution_count": 20,
   "metadata": {},
   "outputs": [
    {
     "data": {
      "text/plain": [
       "0.840931"
      ]
     },
     "execution_count": 20,
     "metadata": {},
     "output_type": "execute_result"
    }
   ],
   "source": [
    "norm_cdf(my_arr, 1)"
   ]
  },
  {
   "cell_type": "code",
   "execution_count": 21,
   "metadata": {},
   "outputs": [
    {
     "data": {
      "text/plain": [
       "0.15848"
      ]
     },
     "execution_count": 21,
     "metadata": {},
     "output_type": "execute_result"
    }
   ],
   "source": [
    "norm_cdf(my_arr, -1)"
   ]
  },
  {
   "cell_type": "code",
   "execution_count": 16,
   "metadata": {
    "colab": {},
    "colab_type": "code",
    "id": "zcr5lThwdWAQ",
    "outputId": "ecf37bdf-5585-4c58-ee31-4a64a86ac1ee"
   },
   "outputs": [],
   "source": [
    "def calculate(x, a, b):\n",
    "    k = norm_cdf(x, a)\n",
    "    n = norm_cdf(x, b)\n",
    "    return n - k"
   ]
  },
  {
   "cell_type": "code",
   "execution_count": 17,
   "metadata": {},
   "outputs": [
    {
     "data": {
      "text/plain": [
       "0.6824509999999999"
      ]
     },
     "execution_count": 17,
     "metadata": {},
     "output_type": "execute_result"
    }
   ],
   "source": [
    "calculate(my_arr, -1, 1)"
   ]
  },
  {
   "cell_type": "code",
   "execution_count": 18,
   "metadata": {},
   "outputs": [
    {
     "data": {
      "text/plain": [
       "0.954404"
      ]
     },
     "execution_count": 18,
     "metadata": {},
     "output_type": "execute_result"
    }
   ],
   "source": [
    "calculate(my_arr, -2, 2)"
   ]
  },
  {
   "cell_type": "code",
   "execution_count": 19,
   "metadata": {},
   "outputs": [
    {
     "data": {
      "text/plain": [
       "0.997277"
      ]
     },
     "execution_count": 19,
     "metadata": {},
     "output_type": "execute_result"
    }
   ],
   "source": [
    "calculate(my_arr, -3, 3)"
   ]
  }
 ],
 "metadata": {
  "accelerator": "GPU",
  "colab": {
   "collapsed_sections": [],
   "name": "homework2.ipynb",
   "provenance": []
  },
  "kernelspec": {
   "display_name": "Python 3",
   "language": "python",
   "name": "python3"
  },
  "language_info": {
   "codemirror_mode": {
    "name": "ipython",
    "version": 3
   },
   "file_extension": ".py",
   "mimetype": "text/x-python",
   "name": "python",
   "nbconvert_exporter": "python",
   "pygments_lexer": "ipython3",
   "version": "3.7.6"
  }
 },
 "nbformat": 4,
 "nbformat_minor": 1
}
